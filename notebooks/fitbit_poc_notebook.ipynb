{
 "cells": [
  {
   "cell_type": "code",
   "execution_count": null,
   "metadata": {},
   "outputs": [],
   "source": [
    "# # Fitbit Conversational AI - POC Interaction\n",
    "# \n",
    "# This notebook is used to interact with the running `fitbit_agent_service` API.\n",
    "# It demonstrates the core features required by the assignment, showing how the assistant can provide personalized insights and nudges based on mock user data.\n",
    "# \n",
    "# ### Instructions\n",
    "# 1. Make sure the FastAPI service is running (`uvicorn fitbit_agent_service:app --reload`).\n",
    "# 2. Run this notebook cell by cell to see the interaction.\n",
    "\n",
    "# ## Step 1: Install necessary libraries\n",
    "# We only need the `requests` library to communicate with our API.\n",
    "# The `ipython` library is used for better display formatting in the notebook."
   ]
  },
  {
   "cell_type": "code",
   "execution_count": null,
   "metadata": {},
   "outputs": [],
   "source": [
    "!pip install -q requests ipython"
   ]
  },
  {
   "cell_type": "code",
   "execution_count": 7,
   "metadata": {},
   "outputs": [],
   "source": [
    "# ## Step 2: Define Helper Functions\n",
    "# These functions will handle the communication with our API endpoint.\n",
    "\n",
    "import requests\n",
    "import json\n",
    "import uuid\n",
    "from IPython.display import display, Markdown\n",
    "\n",
    "# Configuration\n",
    "BASE_URL = \"http://localhost:8000\"\n",
    "SESSION_ID = str(uuid.uuid4())  # Create a single session ID for the conversation\n",
    "USER_ID = \"alex_fitbit\"  # Default test user ID\n",
    "\n",
    "def health_check():\n",
    "    \"\"\"Checks if the backend service is running and healthy.\"\"\"\n",
    "    display(Markdown(\"---\"))\n",
    "    display(Markdown(\"### 1. Checking Service Health...\"))\n",
    "    try:\n",
    "        response = requests.get(f\"{BASE_URL}/health\", timeout=5)\n",
    "        response.raise_for_status()\n",
    "        status = response.json()\n",
    "        if status.get(\"status\") == \"healthy\" and status.get(\"llm_initialized\"):\n",
    "            display(Markdown(\"> ✅ **Service is up and running!** The LLM client is initialized.\"))\n",
    "            return True\n",
    "        else:\n",
    "            display(Markdown(\"> ❌ **Service has an issue.** Check the server logs.\"))\n",
    "            print(status)\n",
    "            return False\n",
    "    except requests.exceptions.RequestException as e:\n",
    "        display(Markdown(f\"> ❌ **Service is not reachable.** Please make sure the `uvicorn fitbit_agent_service:app` is running.\"))\n",
    "        return False\n",
    "\n",
    "\n",
    "def run_agent_query(question: str):\n",
    "    \"\"\"Sends a question to the agent and displays the conversation.\"\"\"\n",
    "    \n",
    "    # Display the user's query\n",
    "    display(Markdown(f\"**👤 You:**\"))\n",
    "    display(Markdown(f\"> {question}\"))\n",
    "    \n",
    "    try:\n",
    "        # Create the payload matching the QueryRequest model\n",
    "        payload = {\n",
    "            \"query\": question,\n",
    "            \"session_id\": SESSION_ID,\n",
    "            \"user_id\": USER_ID\n",
    "        }\n",
    "        \n",
    "        response = requests.post(\n",
    "            f\"{BASE_URL}/query\",\n",
    "            json=payload,\n",
    "            headers={\"Content-Type\": \"application/json\"},\n",
    "            timeout=30  # Increased timeout to match debug client\n",
    "        )\n",
    "        response.raise_for_status()\n",
    "        \n",
    "        answer = response.json().get(\"answer\", \"I'm not sure how to respond to that.\")\n",
    "        \n",
    "        # Display the assistant's response\n",
    "        display(Markdown(f\"**🤖 Fitbit Assistant:**\"))\n",
    "        display(Markdown(f\"> {answer}\"))\n",
    "\n",
    "    except requests.exceptions.RequestException as e:\n",
    "        display(Markdown(f\"> 🤖 **Error:** Could not get a response from the agent. Details: {e}\"))\n",
    "    \n",
    "    display(Markdown(\"---\"))\n",
    "\n"
   ]
  },
  {
   "cell_type": "code",
   "execution_count": 8,
   "metadata": {},
   "outputs": [
    {
     "data": {
      "text/markdown": [
       "---"
      ],
      "text/plain": [
       "<IPython.core.display.Markdown object>"
      ]
     },
     "metadata": {},
     "output_type": "display_data"
    },
    {
     "data": {
      "text/markdown": [
       "### 1. Checking Service Health..."
      ],
      "text/plain": [
       "<IPython.core.display.Markdown object>"
      ]
     },
     "metadata": {},
     "output_type": "display_data"
    },
    {
     "data": {
      "text/markdown": [
       "> ✅ **Service is up and running!** The LLM client is initialized."
      ],
      "text/plain": [
       "<IPython.core.display.Markdown object>"
      ]
     },
     "metadata": {},
     "output_type": "display_data"
    },
    {
     "data": {
      "text/markdown": [
       "### 2. Starting Conversation with Fitbit Assistant..."
      ],
      "text/plain": [
       "<IPython.core.display.Markdown object>"
      ]
     },
     "metadata": {},
     "output_type": "display_data"
    },
    {
     "data": {
      "text/markdown": [
       "**👤 You:**"
      ],
      "text/plain": [
       "<IPython.core.display.Markdown object>"
      ]
     },
     "metadata": {},
     "output_type": "display_data"
    },
    {
     "data": {
      "text/markdown": [
       "> How did I sleep last night?"
      ],
      "text/plain": [
       "<IPython.core.display.Markdown object>"
      ]
     },
     "metadata": {},
     "output_type": "display_data"
    },
    {
     "data": {
      "text/markdown": [
       "**🤖 Fitbit Assistant:**"
      ],
      "text/plain": [
       "<IPython.core.display.Markdown object>"
      ]
     },
     "metadata": {},
     "output_type": "display_data"
    },
    {
     "data": {
      "text/markdown": [
       "> Good morning, Alex! According to your Fitbit data, you slept for 6.5 hours last night. Your sleep quality was fair, and it looks like you woke up twice during the night. While you got some rest, there's room for improvement. Remember, aiming for 7-9 hours of sleep per night is ideal for most adults. Is there anything specific about your sleep you'd like to work on? I'm here to help you achieve better sleep quality!"
      ],
      "text/plain": [
       "<IPython.core.display.Markdown object>"
      ]
     },
     "metadata": {},
     "output_type": "display_data"
    },
    {
     "data": {
      "text/markdown": [
       "---"
      ],
      "text/plain": [
       "<IPython.core.display.Markdown object>"
      ]
     },
     "metadata": {},
     "output_type": "display_data"
    },
    {
     "data": {
      "text/markdown": [
       "**👤 You:**"
      ],
      "text/plain": [
       "<IPython.core.display.Markdown object>"
      ]
     },
     "metadata": {},
     "output_type": "display_data"
    },
    {
     "data": {
      "text/markdown": [
       "> Am I more active this week than last week?"
      ],
      "text/plain": [
       "<IPython.core.display.Markdown object>"
      ]
     },
     "metadata": {},
     "output_type": "display_data"
    },
    {
     "data": {
      "text/markdown": [
       "**🤖 Fitbit Assistant:**"
      ],
      "text/plain": [
       "<IPython.core.display.Markdown object>"
      ]
     },
     "metadata": {},
     "output_type": "display_data"
    },
    {
     "data": {
      "text/markdown": [
       "> Great question, Alex! I'm excited to share some positive news with you. According to your Fitbit data, you've been more active this week compared to last week! You've had 4 active days so far, which is fantastic. It's wonderful to see you increasing your activity level. Keep up the great work! Is there any specific type of activity you've been enjoying lately or a new fitness goal you're working towards? I'd be happy to provide some tips or encouragement to help you maintain this positive trend."
      ],
      "text/plain": [
       "<IPython.core.display.Markdown object>"
      ]
     },
     "metadata": {},
     "output_type": "display_data"
    },
    {
     "data": {
      "text/markdown": [
       "---"
      ],
      "text/plain": [
       "<IPython.core.display.Markdown object>"
      ]
     },
     "metadata": {},
     "output_type": "display_data"
    },
    {
     "data": {
      "text/markdown": [
       "**👤 You:**"
      ],
      "text/plain": [
       "<IPython.core.display.Markdown object>"
      ]
     },
     "metadata": {},
     "output_type": "display_data"
    },
    {
     "data": {
      "text/markdown": [
       "> How am I doing on my steps goal for today?"
      ],
      "text/plain": [
       "<IPython.core.display.Markdown object>"
      ]
     },
     "metadata": {},
     "output_type": "display_data"
    },
    {
     "data": {
      "text/markdown": [
       "**🤖 Fitbit Assistant:**"
      ],
      "text/plain": [
       "<IPython.core.display.Markdown object>"
      ]
     },
     "metadata": {},
     "output_type": "display_data"
    },
    {
     "data": {
      "text/markdown": [
       "> Great question, Alex! I'm excited to share your progress with you. According to your Fitbit data, you've taken 8,500 steps today. That's fantastic! You're making great progress towards your daily goal of 10,000 steps.\n",
       "\n",
       "You're already 85% of the way there, which is impressive. You only need 1,500 more steps to reach your goal for the day. That's about a 15-minute walk or a quick jog around the block. \n",
       "\n",
       "Keep up the great work! You're doing an excellent job of staying active. Is there any particular activity you have planned for the rest of the day that might help you reach those final steps? Remember, every step counts, and you're so close to hitting your target. Let me know if you need any suggestions or motivation to finish strong!"
      ],
      "text/plain": [
       "<IPython.core.display.Markdown object>"
      ]
     },
     "metadata": {},
     "output_type": "display_data"
    },
    {
     "data": {
      "text/markdown": [
       "---"
      ],
      "text/plain": [
       "<IPython.core.display.Markdown object>"
      ]
     },
     "metadata": {},
     "output_type": "display_data"
    },
    {
     "data": {
      "text/markdown": [
       "**👤 You:**"
      ],
      "text/plain": [
       "<IPython.core.display.Markdown object>"
      ]
     },
     "metadata": {},
     "output_type": "display_data"
    },
    {
     "data": {
      "text/markdown": [
       "> What can I do to improve my heart rate?"
      ],
      "text/plain": [
       "<IPython.core.display.Markdown object>"
      ]
     },
     "metadata": {},
     "output_type": "display_data"
    },
    {
     "data": {
      "text/markdown": [
       "**🤖 Fitbit Assistant:**"
      ],
      "text/plain": [
       "<IPython.core.display.Markdown object>"
      ]
     },
     "metadata": {},
     "output_type": "display_data"
    },
    {
     "data": {
      "text/markdown": [
       "> Great question, Alex! I'm glad you're interested in improving your heart health. Based on your Fitbit data, your resting heart rate today is 65 beats per minute, which is within a healthy range for most adults. However, there are always ways to improve your cardiovascular health. Here are some suggestions:\n",
       "\n",
       "1. Increase your aerobic exercise: Your data shows you've had 45 minutes in active heart rate zones today, which is fantastic! Try to gradually increase this time to strengthen your heart.\n",
       "\n",
       "2. Practice stress-reduction techniques: Activities like meditation, deep breathing, or yoga can help lower your resting heart rate over time.\n",
       "\n",
       "3. Stay hydrated: Proper hydration helps your heart pump blood more efficiently.\n",
       "\n",
       "4. Get enough sleep: Although your sleep duration was 6.5 hours last night, aim for 7-9 hours to give your heart adequate rest.\n",
       "\n",
       "5. Maintain a heart-healthy diet: Focus on foods rich in omega-3 fatty acids, whole grains, and plenty of fruits and vegetables.\n",
       "\n",
       "6. Limit caffeine and alcohol: Both can affect your heart rate, so moderation is key.\n",
       "\n",
       "Remember, improvements in heart health take time, so be patient and consistent. Keep tracking your progress with your Fitbit, and you'll likely see positive changes over time. Is there a specific area you'd like to focus on first? I'm here to support you on your heart health journey!"
      ],
      "text/plain": [
       "<IPython.core.display.Markdown object>"
      ]
     },
     "metadata": {},
     "output_type": "display_data"
    },
    {
     "data": {
      "text/markdown": [
       "---"
      ],
      "text/plain": [
       "<IPython.core.display.Markdown object>"
      ]
     },
     "metadata": {},
     "output_type": "display_data"
    }
   ],
   "source": [
    "# ## Step 3: Run the Demonstration\n",
    "# Here, we will simulate a conversation with the assistant, covering the scenarios required by the assignment.\n",
    "\n",
    "if health_check():\n",
    "    display(Markdown(\"### 2. Starting Conversation with Fitbit Assistant...\"))\n",
    "    \n",
    "    # --- Turn 1: Personalized Insight ---\n",
    "    # This query asks about sleep, a key piece of personal data.\n",
    "    run_agent_query(\"How did I sleep last night?\")\n",
    "    \n",
    "    # --- Turn 2: Handling a simple user query with data comparison ---\n",
    "    # This query requires the agent to look at the weekly summary data.\n",
    "    run_agent_query(\"Am I more active this week than last week?\")\n",
    "\n",
    "    # --- Turn 3: Follow-up questions or nudges ---\n",
    "    # This query about steps should trigger a motivational nudge since the user is close to their goal.\n",
    "    run_agent_query(\"How am I doing on my steps goal for today?\")\n",
    "    \n",
    "    # --- Turn 4: A more general wellness question ---\n",
    "    # This demonstrates the assistant's ability to provide general advice based on the context.\n",
    "    \n",
    "    run_agent_query(\"What can I do to improve my heart rate?\")"
   ]
  },
  {
   "cell_type": "code",
   "execution_count": null,
   "metadata": {},
   "outputs": [],
   "source": []
  }
 ],
 "metadata": {
  "kernelspec": {
   "display_name": "ilan-reid",
   "language": "python",
   "name": "python3"
  },
  "language_info": {
   "codemirror_mode": {
    "name": "ipython",
    "version": 3
   },
   "file_extension": ".py",
   "mimetype": "text/x-python",
   "name": "python",
   "nbconvert_exporter": "python",
   "pygments_lexer": "ipython3",
   "version": "3.12.9"
  }
 },
 "nbformat": 4,
 "nbformat_minor": 2
}
